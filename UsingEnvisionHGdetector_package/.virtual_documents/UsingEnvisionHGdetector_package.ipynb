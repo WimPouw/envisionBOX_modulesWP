





import os
import glob as glob

videofoldertoday = './videos_to_label/'
outputfolder = './output/'


from moviepy import VideoFileClip
# list all videos in the folder
videos = glob.glob(videofoldertoday + '*.mp4')

# show one video with the labels using moviepy called 'example_1'
clip = VideoFileClip(videos[0]) # this is an opencv video so we need to rerender it, to show it in this notebook
clip.write_videofile("./temp/example_1.mp4")
clip = VideoFileClip(videos[1])
clip.write_videofile("./temp/example_2.mp4")


# now show the two videos
from IPython.display import Video
Video("./temp/example_1.mp4", width=640, height=480)



Video("./temp/example_2.mp4", width=640, height=480)





from envisionhgdetector import GestureDetector
import os

# absolute path 
videofoldertoday = os.path.abspath('./videos_to_label/')
outputfolder = os.path.abspath('./output/')

# create a detector object
detector = GestureDetector(motion_threshold=0.9, gesture_threshold=0.9, min_gap_s =0.2, min_length_s=0.5)

# just do the detection on the folder
detector.process_folder(
    input_folder=videofoldertoday,
    output_folder=outputfolder,
)


import pandas as pd
import os
# lets list the output
outputfiles = glob.glob(outputfolder + '/*')
for file in outputfiles:
    print(os.path.basename(file))

# load one of the predictions
csvfilessegments = glob.glob(outputfolder + '/*segments.csv')
df = pd.read_csv(csvfilessegments[0])
df.head()





videoslabeled = glob.glob(outputfolder + '/*.mp4')

# another one
clip = VideoFileClip(videoslabeled[1])
clip.write_videofile("./temp/example_2_labeled.mp4")
Video("./temp/example_2_labeled.mp4", width=640, height=480)



videoslabeled = glob.glob(outputfolder + '/*.mp4')

# another one
clip = VideoFileClip(videoslabeled[0])
clip.write_videofile("./temp/example_1_labeled.mp4")
Video("./temp/example_1_labeled.mp4", width=640, height=480)




